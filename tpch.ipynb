{
  "cells": [
    {
      "cell_type": "markdown",
      "metadata": {
        "id": "view-in-github",
        "colab_type": "text"
      },
      "source": [
        "<a href=\"https://colab.research.google.com/github/pgasp/starburst-python/blob/main/tpch.ipynb\" target=\"_parent\"><img src=\"https://colab.research.google.com/assets/colab-badge.svg\" alt=\"Open In Colab\"/></a>"
      ]
    },
    {
      "cell_type": "markdown",
      "metadata": {
        "tags": [],
        "id": "c7Kk9OFfmENG"
      },
      "source": [
        "# Exploring PyStarburst with Starburst and the TPC-H dataset"
      ]
    },
    {
      "cell_type": "markdown",
      "metadata": {
        "id": "xpqB-wDlmENK"
      },
      "source": [
        "## Getting started\n",
        "\n",
        "### Load the Dataframe (DF) API\n",
        "\n",
        "Pull up https://pystarburst.eng.starburstdata.net/ in a browser window.\n",
        "\n",
        "## Explore via code examples\n",
        "\n",
        "Lets go!"
      ]
    },
    {
      "cell_type": "code",
      "execution_count": 1,
      "metadata": {
        "tags": [],
        "id": "JOXYtNWOmENN",
        "colab": {
          "base_uri": "https://localhost:8080/"
        },
        "outputId": "b197a380-a6cc-4178-d60d-a53a223c8a18"
      },
      "outputs": [
        {
          "output_type": "stream",
          "name": "stdout",
          "text": [
            "Collecting pystarburst\n",
            "  Downloading pystarburst-0.10.0-py3-none-any.whl.metadata (2.9 kB)\n",
            "Requirement already satisfied: pydantic<3.0.0,>=2.7.4 in /usr/local/lib/python3.12/dist-packages (from pystarburst) (2.11.7)\n",
            "Requirement already satisfied: python-dateutil<3.0.0,>=2.8.2 in /usr/local/lib/python3.12/dist-packages (from pystarburst) (2.9.0.post0)\n",
            "Collecting trino<0.336.0,>=0.335.0 (from pystarburst)\n",
            "  Downloading trino-0.335.0-py3-none-any.whl.metadata (20 kB)\n",
            "Requirement already satisfied: urllib3<3.0.0,>=2.5.0 in /usr/local/lib/python3.12/dist-packages (from pystarburst) (2.5.0)\n",
            "Collecting zstandard<0.24.0,>=0.23.0 (from pystarburst)\n",
            "  Downloading zstandard-0.23.0-cp312-cp312-manylinux_2_17_x86_64.manylinux2014_x86_64.whl.metadata (3.0 kB)\n",
            "Requirement already satisfied: annotated-types>=0.6.0 in /usr/local/lib/python3.12/dist-packages (from pydantic<3.0.0,>=2.7.4->pystarburst) (0.7.0)\n",
            "Requirement already satisfied: pydantic-core==2.33.2 in /usr/local/lib/python3.12/dist-packages (from pydantic<3.0.0,>=2.7.4->pystarburst) (2.33.2)\n",
            "Requirement already satisfied: typing-extensions>=4.12.2 in /usr/local/lib/python3.12/dist-packages (from pydantic<3.0.0,>=2.7.4->pystarburst) (4.14.1)\n",
            "Requirement already satisfied: typing-inspection>=0.4.0 in /usr/local/lib/python3.12/dist-packages (from pydantic<3.0.0,>=2.7.4->pystarburst) (0.4.1)\n",
            "Requirement already satisfied: six>=1.5 in /usr/local/lib/python3.12/dist-packages (from python-dateutil<3.0.0,>=2.8.2->pystarburst) (1.17.0)\n",
            "Collecting lz4 (from trino<0.336.0,>=0.335.0->pystarburst)\n",
            "  Downloading lz4-4.4.4-cp312-cp312-manylinux_2_17_x86_64.manylinux2014_x86_64.whl.metadata (3.8 kB)\n",
            "Requirement already satisfied: pytz in /usr/local/lib/python3.12/dist-packages (from trino<0.336.0,>=0.335.0->pystarburst) (2025.2)\n",
            "Requirement already satisfied: requests>=2.31.0 in /usr/local/lib/python3.12/dist-packages (from trino<0.336.0,>=0.335.0->pystarburst) (2.32.4)\n",
            "Requirement already satisfied: tzlocal in /usr/local/lib/python3.12/dist-packages (from trino<0.336.0,>=0.335.0->pystarburst) (5.3.1)\n",
            "Requirement already satisfied: charset_normalizer<4,>=2 in /usr/local/lib/python3.12/dist-packages (from requests>=2.31.0->trino<0.336.0,>=0.335.0->pystarburst) (3.4.3)\n",
            "Requirement already satisfied: idna<4,>=2.5 in /usr/local/lib/python3.12/dist-packages (from requests>=2.31.0->trino<0.336.0,>=0.335.0->pystarburst) (3.10)\n",
            "Requirement already satisfied: certifi>=2017.4.17 in /usr/local/lib/python3.12/dist-packages (from requests>=2.31.0->trino<0.336.0,>=0.335.0->pystarburst) (2025.8.3)\n",
            "Downloading pystarburst-0.10.0-py3-none-any.whl (135 kB)\n",
            "\u001b[2K   \u001b[90m━━━━━━━━━━━━━━━━━━━━━━━━━━━━━━━━━━━━━━━━\u001b[0m \u001b[32m135.3/135.3 kB\u001b[0m \u001b[31m5.0 MB/s\u001b[0m eta \u001b[36m0:00:00\u001b[0m\n",
            "\u001b[?25hDownloading trino-0.335.0-py3-none-any.whl (57 kB)\n",
            "\u001b[2K   \u001b[90m━━━━━━━━━━━━━━━━━━━━━━━━━━━━━━━━━━━━━━━━\u001b[0m \u001b[32m57.9/57.9 kB\u001b[0m \u001b[31m3.9 MB/s\u001b[0m eta \u001b[36m0:00:00\u001b[0m\n",
            "\u001b[?25hDownloading zstandard-0.23.0-cp312-cp312-manylinux_2_17_x86_64.manylinux2014_x86_64.whl (5.4 MB)\n",
            "\u001b[2K   \u001b[90m━━━━━━━━━━━━━━━━━━━━━━━━━━━━━━━━━━━━━━━━\u001b[0m \u001b[32m5.4/5.4 MB\u001b[0m \u001b[31m68.7 MB/s\u001b[0m eta \u001b[36m0:00:00\u001b[0m\n",
            "\u001b[?25hDownloading lz4-4.4.4-cp312-cp312-manylinux_2_17_x86_64.manylinux2014_x86_64.whl (1.3 MB)\n",
            "\u001b[2K   \u001b[90m━━━━━━━━━━━━━━━━━━━━━━━━━━━━━━━━━━━━━━━━\u001b[0m \u001b[32m1.3/1.3 MB\u001b[0m \u001b[31m56.5 MB/s\u001b[0m eta \u001b[36m0:00:00\u001b[0m\n",
            "\u001b[?25hInstalling collected packages: zstandard, lz4, trino, pystarburst\n",
            "  Attempting uninstall: zstandard\n",
            "    Found existing installation: zstandard 0.24.0\n",
            "    Uninstalling zstandard-0.24.0:\n",
            "      Successfully uninstalled zstandard-0.24.0\n",
            "Successfully installed lz4-4.4.4 pystarburst-0.10.0 trino-0.335.0 zstandard-0.23.0\n"
          ]
        }
      ],
      "source": [
        "#\n",
        "# Install the library\n",
        "#\n",
        "\n",
        "%pip install pystarburst"
      ]
    },
    {
      "cell_type": "code",
      "execution_count": 2,
      "metadata": {
        "jupyter": {
          "outputs_hidden": false
        },
        "tags": [],
        "id": "_AOcBM7ZmENU",
        "colab": {
          "base_uri": "https://localhost:8080/"
        },
        "outputId": "e42d78a7-fc29-497c-f321-6d9e829fd68c"
      },
      "outputs": [
        {
          "name": "stdout",
          "output_type": "stream",
          "text": [
            "Password··········\n"
          ]
        }
      ],
      "source": [
        "#\n",
        "# Define connection properties\n",
        "#  get the host and other information from the cluster list\n",
        "#\n",
        "\n",
        "import getpass\n",
        "\n",
        "host = \"ai-workshop.enablement.starburstdata.net\"\n",
        "username = \"pascal.gasp\"\n",
        "password = getpass.getpass(\"Password\")\n"
      ]
    },
    {
      "cell_type": "code",
      "execution_count": 3,
      "metadata": {
        "tags": [],
        "id": "_q37diStmENV"
      },
      "outputs": [],
      "source": [
        "#\n",
        "# Import dependencies\n",
        "#\n",
        "\n",
        "from pystarburst import Session\n",
        "from pystarburst import functions as F\n",
        "from pystarburst.functions import *\n",
        "from pystarburst.window import Window as W\n",
        "\n",
        "import trino\n",
        "\n",
        "session_properties = {\n",
        "    \"host\":host,\n",
        "    \"port\": 443,\n",
        "    # Needed for https secured clusters\n",
        "    \"http_scheme\": \"https\",\n",
        "    # Setup authentication through login or password or any other supported authentication methods\n",
        "    # See docs: https://github.com/trinodb/trino-python-client#authentication-mechanisms\n",
        "    \"auth\": trino.auth.BasicAuthentication(username, password)\n",
        "}\n",
        "\n",
        "session = Session.builder.configs(session_properties).create()"
      ]
    },
    {
      "cell_type": "code",
      "execution_count": 4,
      "metadata": {
        "tags": [],
        "id": "ejg8P_VnmENX",
        "colab": {
          "base_uri": "https://localhost:8080/"
        },
        "outputId": "054aa2d7-a0a1-4d22-dd9c-ba1633fda423"
      },
      "outputs": [
        {
          "output_type": "execute_result",
          "data": {
            "text/plain": [
              "[Row(b=1)]"
            ]
          },
          "metadata": {},
          "execution_count": 4
        }
      ],
      "source": [
        "#\n",
        "# Validate connectivity to the cluster\n",
        "#\n",
        "\n",
        "session.sql(\"select 1 as b\").collect()"
      ]
    },
    {
      "cell_type": "code",
      "execution_count": 5,
      "metadata": {
        "tags": [],
        "id": "EZYvn0nKmENY",
        "colab": {
          "base_uri": "https://localhost:8080/"
        },
        "outputId": "9e0be60a-1c4e-4be4-f92b-f7c18cdef099"
      },
      "outputs": [
        {
          "output_type": "execute_result",
          "data": {
            "text/plain": [
              "[Row(Table='customer'),\n",
              " Row(Table='lineitem'),\n",
              " Row(Table='nation'),\n",
              " Row(Table='orders'),\n",
              " Row(Table='part'),\n",
              " Row(Table='partsupp'),\n",
              " Row(Table='region'),\n",
              " Row(Table='supplier')]"
            ]
          },
          "metadata": {},
          "execution_count": 5
        }
      ],
      "source": [
        "#\n",
        "# Ensure we have access to the TPC-H dataset by listing the tables in the tiny schema\n",
        "#  https://pystarburst.eng.starburstdata.net/session.html#pystarburst.session.Session.sql\n",
        "#\n",
        "\n",
        "session.sql(\"show tables from tpch.tiny\").collect()"
      ]
    },
    {
      "cell_type": "code",
      "execution_count": 6,
      "metadata": {
        "tags": [],
        "id": "1RD05BE-mENY",
        "colab": {
          "base_uri": "https://localhost:8080/"
        },
        "outputId": "5e7fd87b-7129-4bef-ef24-9921674958ad"
      },
      "outputs": [
        {
          "output_type": "stream",
          "name": "stdout",
          "text": [
            "StructType([StructField('orderkey', LongType(), nullable=True), StructField('partkey', LongType(), nullable=True), StructField('suppkey', LongType(), nullable=True), StructField('linenumber', IntegerType(), nullable=True), StructField('quantity', DoubleType(), nullable=True), StructField('extendedprice', DoubleType(), nullable=True), StructField('discount', DoubleType(), nullable=True), StructField('tax', DoubleType(), nullable=True), StructField('returnflag', StringType(), nullable=True), StructField('linestatus', StringType(), nullable=True), StructField('shipdate', DateType(), nullable=True), StructField('commitdate', DateType(), nullable=True), StructField('receiptdate', DateType(), nullable=True), StructField('shipinstruct', StringType(), nullable=True), StructField('shipmode', StringType(), nullable=True), StructField('comment', StringType(), nullable=True)])\n"
          ]
        }
      ],
      "source": [
        "#\n",
        "# What columns make up the lineitem table\n",
        "#  https://pystarburst.eng.starburstdata.net/session.html#pystarburst.session.Session.table\n",
        "#  https://pystarburst.eng.starburstdata.net/dataframe.html#pystarburst.dataframe.DataFrame.schema\n",
        "#\n",
        "\n",
        "# Create a Dataframe for the lineitem table\n",
        "tli = session.table(\"tpch.tiny.lineitem\")\n",
        "\n",
        "# Show the columns\n",
        "print(tli.schema)"
      ]
    },
    {
      "cell_type": "code",
      "execution_count": 7,
      "metadata": {
        "id": "MjxKsKLPmENY",
        "colab": {
          "base_uri": "https://localhost:8080/"
        },
        "outputId": "34bd2ed5-ea14-45f9-fd2a-825fc9bf6a93"
      },
      "outputs": [
        {
          "output_type": "stream",
          "name": "stdout",
          "text": [
            "orderkey , type='LongType'\n",
            "partkey , type='LongType'\n",
            "suppkey , type='LongType'\n",
            "linenumber , type='IntegerType'\n",
            "quantity , type='DoubleType'\n",
            "extendedprice , type='DoubleType'\n",
            "discount , type='DoubleType'\n",
            "tax , type='DoubleType'\n",
            "returnflag , size=None type='StringType'\n",
            "linestatus , size=None type='StringType'\n",
            "shipdate , type='DateType'\n",
            "commitdate , type='DateType'\n",
            "receiptdate , type='DateType'\n",
            "shipinstruct , size=None type='StringType'\n",
            "shipmode , size=None type='StringType'\n",
            "comment , size=None type='StringType'\n"
          ]
        }
      ],
      "source": [
        "#\n",
        "# That was pretty busy, let's try that again...\n",
        "#  loop through the fields of fhe schema and print them out\n",
        "#\n",
        "\n",
        "for field in tli.schema.fields:\n",
        "    print(field.name +\" , \"+str(field.datatype))"
      ]
    },
    {
      "cell_type": "code",
      "execution_count": 8,
      "metadata": {
        "id": "9T0K7oNAmENZ",
        "colab": {
          "base_uri": "https://localhost:8080/"
        },
        "outputId": "d2022806-8737-4cd4-b3d4-ba9a1c25b8b4"
      },
      "outputs": [
        {
          "output_type": "stream",
          "name": "stdout",
          "text": [
            "-----------------------------------------------------------------------------------------------------------------------------------------------------------------------------------------------------------------------------------------------------------------\n",
            "|\"orderkey\"  |\"partkey\"  |\"suppkey\"  |\"linenumber\"  |\"quantity\"  |\"extendedprice\"  |\"discount\"  |\"tax\"  |\"returnflag\"  |\"linestatus\"  |\"shipdate\"  |\"commitdate\"  |\"receiptdate\"  |\"shipinstruct\"    |\"shipmode\"  |\"comment\"                                    |\n",
            "-----------------------------------------------------------------------------------------------------------------------------------------------------------------------------------------------------------------------------------------------------------------\n",
            "|22498       |1021       |27         |1             |50.0        |46101.0          |0.01        |0.03   |R             |F             |1994-01-15  |1994-02-01    |1994-01-20     |NONE              |FOB         |ely special requests. blithely regular requ  |\n",
            "|22498       |951        |20         |2             |10.0        |18519.5          |0.06        |0.03   |R             |F             |1993-11-20  |1993-12-23    |1993-12-14     |COLLECT COD       |SHIP        |nal requests doze. fluffily pending          |\n",
            "|22498       |885        |52         |3             |6.0         |10715.28         |0.07        |0.05   |A             |F             |1993-11-23  |1994-01-28    |1993-12-21     |COLLECT COD       |TRUCK       |y regular instructions                       |\n",
            "|22498       |1213       |25         |4             |7.0         |7799.47          |0.02        |0.04   |R             |F             |1994-03-02  |1993-12-21    |1994-03-10     |TAKE BACK RETURN  |SHIP        |e quickly alongside of t                     |\n",
            "|22498       |1797       |40         |5             |9.0         |15289.11         |0.06        |0.06   |A             |F             |1994-02-23  |1993-12-29    |1994-03-03     |TAKE BACK RETURN  |AIR         |. even theodolites are after the slyly       |\n",
            "|22499       |284        |66         |1             |21.0        |24869.88         |0.03        |0.03   |R             |F             |1994-11-11  |1995-01-02    |1994-11-16     |NONE              |MAIL        |efully furious deposits.                     |\n",
            "|22500       |1135       |72         |1             |47.0        |48698.11         |0.03        |0.0    |R             |F             |1992-08-24  |1992-10-06    |1992-08-29     |NONE              |AIR         |ggle quickl                                  |\n",
            "|22500       |1680       |81         |2             |14.0        |22143.52         |0.02        |0.06   |R             |F             |1992-11-18  |1992-09-18    |1992-12-18     |NONE              |SHIP        |final requests cajole. carefully fluffy      |\n",
            "|22501       |1011       |82         |1             |46.0        |41952.46         |0.05        |0.01   |A             |F             |1993-06-01  |1993-07-08    |1993-06-22     |COLLECT COD       |AIR         | since the carefully reg                     |\n",
            "|22501       |418        |77         |2             |9.0         |11865.69         |0.08        |0.06   |R             |F             |1993-09-06  |1993-07-21    |1993-09-21     |NONE              |MAIL        |erve carefully bold accounts. finally expre  |\n",
            "-----------------------------------------------------------------------------------------------------------------------------------------------------------------------------------------------------------------------------------------------------------------\n",
            "\n"
          ]
        }
      ],
      "source": [
        "#\n",
        "# Show the data\n",
        "#  a is the Dataframe (DF) that we defined early\n",
        "#  the show() command will list out up to 10 rows\n",
        "#    pass it an argument for something longer\n",
        "#  https://pystarburst.eng.starburstdata.net/dataframe.html#pystarburst.dataframe.DataFrame.show\n",
        "#\n",
        "\n",
        "tli.show()"
      ]
    },
    {
      "cell_type": "code",
      "execution_count": 9,
      "metadata": {
        "tags": [],
        "id": "hFCE_FMhmENZ",
        "colab": {
          "base_uri": "https://localhost:8080/"
        },
        "outputId": "d177a05d-643a-446e-9590-008ca287fa5c"
      },
      "outputs": [
        {
          "output_type": "stream",
          "name": "stdout",
          "text": [
            "---------------------------------------------------------------------------\n",
            "|\"orderkey\"  |\"linenumber\"  |\"quantity\"  |\"extendedprice\"  |\"linestatus\"  |\n",
            "---------------------------------------------------------------------------\n",
            "|37504       |1             |15.0        |19656.0          |O             |\n",
            "|37504       |2             |20.0        |28670.6          |O             |\n",
            "|37504       |3             |4.0         |7463.84          |O             |\n",
            "|37504       |4             |32.0        |38185.28         |O             |\n",
            "|37504       |5             |12.0        |15712.8          |O             |\n",
            "|37504       |6             |45.0        |60319.35         |O             |\n",
            "|37505       |1             |47.0        |81725.01         |O             |\n",
            "|37505       |2             |38.0        |34770.38         |O             |\n",
            "|37505       |3             |24.0        |39545.76         |O             |\n",
            "|37505       |4             |27.0        |34813.26         |F             |\n",
            "---------------------------------------------------------------------------\n",
            "\n"
          ]
        }
      ],
      "source": [
        "#\n",
        "# That was pretty busy, let's try that again...\n",
        "#  use the select method on an existing DF identifying just the columns to keep\n",
        "#   https://pystarburst.eng.starburstdata.net/dataframe.html#pystarburst.dataframe.DataFrame.select\n",
        "\n",
        "tli_projected = tli.select(\"orderkey\", \"linenumber\", \"quantity\", \"extendedprice\", \"linestatus\")\n",
        "tli_projected.show()"
      ]
    },
    {
      "cell_type": "code",
      "execution_count": 10,
      "metadata": {
        "id": "ymZUGKzCmENb",
        "colab": {
          "base_uri": "https://localhost:8080/"
        },
        "outputId": "b2008085-1b5a-4861-b85a-48032661eb8c"
      },
      "outputs": [
        {
          "output_type": "stream",
          "name": "stdout",
          "text": [
            "---------------------------------------------------------------------------\n",
            "|\"orderkey\"  |\"linenumber\"  |\"quantity\"  |\"extendedprice\"  |\"linestatus\"  |\n",
            "---------------------------------------------------------------------------\n",
            "|1           |3             |8.0         |12301.04         |O             |\n",
            "|1           |4             |28.0        |25816.56         |O             |\n",
            "|1           |5             |24.0        |27389.76         |O             |\n",
            "|1           |6             |32.0        |33828.8          |O             |\n",
            "|1           |2             |36.0        |56688.12         |O             |\n",
            "|1           |1             |17.0        |24710.35         |O             |\n",
            "|2           |1             |38.0        |36596.28         |O             |\n",
            "|3           |2             |49.0        |53468.31         |F             |\n",
            "|3           |1             |45.0        |42436.8          |F             |\n",
            "|3           |3             |27.0        |32029.56         |F             |\n",
            "---------------------------------------------------------------------------\n",
            "\n"
          ]
        }
      ],
      "source": [
        "#\n",
        "# Add a simple sort\n",
        "#  https://pystarburst.eng.starburstdata.net/dataframe.html#pystarburst.dataframe.DataFrame.sort\n",
        "#\n",
        "\n",
        "tli_projected.sort(\"orderkey\").show()"
      ]
    },
    {
      "cell_type": "code",
      "execution_count": 11,
      "metadata": {
        "id": "7Xjb4XjtmENb",
        "colab": {
          "base_uri": "https://localhost:8080/"
        },
        "outputId": "04bf9813-5145-41c9-a900-a49d3c1f731e"
      },
      "outputs": [
        {
          "output_type": "stream",
          "name": "stdout",
          "text": [
            "---------------------------------------------------------------------------\n",
            "|\"orderkey\"  |\"linenumber\"  |\"quantity\"  |\"extendedprice\"  |\"linestatus\"  |\n",
            "---------------------------------------------------------------------------\n",
            "|1           |1             |17.0        |24710.35         |O             |\n",
            "|1           |2             |36.0        |56688.12         |O             |\n",
            "|1           |3             |8.0         |12301.04         |O             |\n",
            "|1           |4             |28.0        |25816.56         |O             |\n",
            "|1           |5             |24.0        |27389.76         |O             |\n",
            "|1           |6             |32.0        |33828.8          |O             |\n",
            "|2           |1             |38.0        |36596.28         |O             |\n",
            "|3           |1             |45.0        |42436.8          |F             |\n",
            "|3           |2             |49.0        |53468.31         |F             |\n",
            "|3           |3             |27.0        |32029.56         |F             |\n",
            "---------------------------------------------------------------------------\n",
            "\n"
          ]
        }
      ],
      "source": [
        "#\n",
        "# Multiple column sort\n",
        "#\n",
        "\n",
        "tli_projected.sort(\"orderkey\", \"linenumber\").show()"
      ]
    },
    {
      "cell_type": "code",
      "execution_count": 12,
      "metadata": {
        "id": "0ExnxzdKmENc",
        "colab": {
          "base_uri": "https://localhost:8080/"
        },
        "outputId": "a309a560-60e7-4c4b-de05-22cb1e1da01b"
      },
      "outputs": [
        {
          "output_type": "stream",
          "name": "stdout",
          "text": [
            "---------------------------------------------------------------------------\n",
            "|\"orderkey\"  |\"linenumber\"  |\"quantity\"  |\"extendedprice\"  |\"linestatus\"  |\n",
            "---------------------------------------------------------------------------\n",
            "|1           |1             |17.0        |24710.35         |O             |\n",
            "|1           |2             |36.0        |56688.12         |O             |\n",
            "|1           |3             |8.0         |12301.04         |O             |\n",
            "|1           |4             |28.0        |25816.56         |O             |\n",
            "|1           |5             |24.0        |27389.76         |O             |\n",
            "|1           |6             |32.0        |33828.8          |O             |\n",
            "|2           |1             |38.0        |36596.28         |O             |\n",
            "|3           |1             |45.0        |42436.8          |F             |\n",
            "|3           |2             |49.0        |53468.31         |F             |\n",
            "|3           |3             |27.0        |32029.56         |F             |\n",
            "---------------------------------------------------------------------------\n",
            "\n"
          ]
        }
      ],
      "source": [
        "#\n",
        "# Filter some of the data\n",
        "#  https://pystarburst.eng.starburstdata.net/dataframe.html#pystarburst.dataframe.DataFrame.filter\n",
        "#\n",
        "\n",
        "# pfs = projected & filtered & sorted\n",
        "tli_pfs = tli_projected.filter(\"orderkey <= 5\").sort(\"orderkey\", \"linenumber\")\n",
        "tli_pfs.show()"
      ]
    },
    {
      "cell_type": "code",
      "execution_count": 13,
      "metadata": {
        "id": "oQ_d8ALRmENe",
        "colab": {
          "base_uri": "https://localhost:8080/"
        },
        "outputId": "868ce59f-9678-4d8e-f5d0-615cbc80ac4c"
      },
      "outputs": [
        {
          "output_type": "stream",
          "name": "stdout",
          "text": [
            "---------------------------------------------------------------------------\n",
            "|\"orderkey\"  |\"linenumber\"  |\"quantity\"  |\"extendedprice\"  |\"linestatus\"  |\n",
            "---------------------------------------------------------------------------\n",
            "|1           |1             |17.0        |24710.35         |O             |\n",
            "|1           |2             |36.0        |56688.12         |O             |\n",
            "|1           |3             |8.0         |12301.04         |O             |\n",
            "|1           |4             |28.0        |25816.56         |O             |\n",
            "|1           |5             |24.0        |27389.76         |O             |\n",
            "|1           |6             |32.0        |33828.8          |O             |\n",
            "|2           |1             |38.0        |36596.28         |O             |\n",
            "|3           |1             |45.0        |42436.8          |F             |\n",
            "|3           |2             |49.0        |53468.31         |F             |\n",
            "|3           |3             |27.0        |32029.56         |F             |\n",
            "|3           |4             |2.0         |2388.58          |F             |\n",
            "|3           |5             |28.0        |48519.24         |F             |\n",
            "|3           |6             |26.0        |39588.12         |F             |\n",
            "|4           |1             |30.0        |53456.4          |O             |\n",
            "|5           |1             |15.0        |14806.2          |F             |\n",
            "|5           |2             |26.0        |29672.24         |F             |\n",
            "|5           |3             |50.0        |63818.5          |F             |\n",
            "---------------------------------------------------------------------------\n",
            "\n"
          ]
        }
      ],
      "source": [
        "#\n",
        "# You can also mix/n/match with SQL and the API\n",
        "#\n",
        "\n",
        "session.sql(\"SELECT orderkey, linenumber, quantity, extendedprice, linestatus \\\n",
        "               FROM tpch.tiny.lineitem\") \\\n",
        "     .filter(\"orderkey <= 5\").sort(\"orderkey\", \"linenumber\").show(51)"
      ]
    },
    {
      "cell_type": "code",
      "execution_count": 15,
      "metadata": {
        "id": "R26oLP5CmENe",
        "colab": {
          "base_uri": "https://localhost:8080/"
        },
        "outputId": "4b3cad95-3b15-48a4-bae5-21eed3a496cf"
      },
      "outputs": [
        {
          "output_type": "stream",
          "name": "stdout",
          "text": [
            "-----------------------------------------------------------------------------------------------------------------------------------------------------------------------------------\n",
            "|\"orderkey\"  |\"partkey\"  |\"suppkey\"  |\"linenumber\"  |\"quantity\"  |\"extendedprice\"  |\"discount\"  |\"tax\"  |\"returnflag\"  |\"linestatus\"  |\"shipdate\"  |\"commitdate\"  |\"receiptdate\"  |\n",
            "-----------------------------------------------------------------------------------------------------------------------------------------------------------------------------------\n",
            "|22498       |1021       |27         |1             |50.0        |46101.0          |0.01        |0.03   |R             |F             |1994-01-15  |1994-02-01    |1994-01-20     |\n",
            "|22498       |951        |20         |2             |10.0        |18519.5          |0.06        |0.03   |R             |F             |1993-11-20  |1993-12-23    |1993-12-14     |\n",
            "|22498       |885        |52         |3             |6.0         |10715.28         |0.07        |0.05   |A             |F             |1993-11-23  |1994-01-28    |1993-12-21     |\n",
            "|22498       |1213       |25         |4             |7.0         |7799.47          |0.02        |0.04   |R             |F             |1994-03-02  |1993-12-21    |1994-03-10     |\n",
            "|22498       |1797       |40         |5             |9.0         |15289.11         |0.06        |0.06   |A             |F             |1994-02-23  |1993-12-29    |1994-03-03     |\n",
            "|22499       |284        |66         |1             |21.0        |24869.88         |0.03        |0.03   |R             |F             |1994-11-11  |1995-01-02    |1994-11-16     |\n",
            "|22500       |1135       |72         |1             |47.0        |48698.11         |0.03        |0.0    |R             |F             |1992-08-24  |1992-10-06    |1992-08-29     |\n",
            "|22500       |1680       |81         |2             |14.0        |22143.52         |0.02        |0.06   |R             |F             |1992-11-18  |1992-09-18    |1992-12-18     |\n",
            "|22501       |1011       |82         |1             |46.0        |41952.46         |0.05        |0.01   |A             |F             |1993-06-01  |1993-07-08    |1993-06-22     |\n",
            "|22501       |418        |77         |2             |9.0         |11865.69         |0.08        |0.06   |R             |F             |1993-09-06  |1993-07-21    |1993-09-21     |\n",
            "-----------------------------------------------------------------------------------------------------------------------------------------------------------------------------------\n",
            "\n"
          ]
        }
      ],
      "source": [
        "#\n",
        "# You saw that select() was a way to specifically call out the columns you want\n",
        "#  from an existing DF, but what if there was a bunch of columns and you wanted\n",
        "#  almost all of them?\n",
        "#\n",
        "# The drop() method is the reverse; you identify the columns you'd like to eliminate\n",
        "#  https://pystarburst.eng.starburstdata.net/dataframe.html#pystarburst.dataframe.DataFrame.drop\n",
        "#\n",
        "\n",
        "tli.drop(\"comment\", \"shipmode\", \"shipinstruct\").show()"
      ]
    },
    {
      "cell_type": "code",
      "execution_count": 16,
      "metadata": {
        "id": "LGSHskQxmENf",
        "colab": {
          "base_uri": "https://localhost:8080/"
        },
        "outputId": "4728bae8-406e-4c2d-8d4b-afa172e5f3be"
      },
      "outputs": [
        {
          "output_type": "stream",
          "name": "stdout",
          "text": [
            "-------------------------------------------------------------------------\n",
            "|\"orderkey\"  |\"linenumber\"  |\"suppkey\"  |\"discount\"  |\"shipinstruct\"    |\n",
            "-------------------------------------------------------------------------\n",
            "|15271       |4             |55         |0.06        |TAKE BACK RETURN  |\n",
            "|23105       |1             |55         |0.06        |TAKE BACK RETURN  |\n",
            "|32800       |2             |55         |0.06        |TAKE BACK RETURN  |\n",
            "|39364       |2             |55         |0.06        |TAKE BACK RETURN  |\n",
            "|42439       |1             |55         |0.06        |TAKE BACK RETURN  |\n",
            "|53635       |1             |55         |0.06        |TAKE BACK RETURN  |\n",
            "|3841        |3             |60         |0.06        |TAKE BACK RETURN  |\n",
            "|25474       |3             |60         |0.06        |TAKE BACK RETURN  |\n",
            "|53511       |7             |60         |0.06        |TAKE BACK RETURN  |\n",
            "|6629        |2             |88         |0.06        |TAKE BACK RETURN  |\n",
            "-------------------------------------------------------------------------\n",
            "\n"
          ]
        }
      ],
      "source": [
        "#\n",
        "# We saw that you can order by multiple columns already.  When you need to have\n",
        "#  multiple predicates, just chain the filter() methods back to back\n",
        "#\n",
        "\n",
        "tli.filter(\"discount > 0.05\") \\\n",
        "   .filter(\"returnflag = 'A'\") \\\n",
        "   .filter(\"suppkey IN (55, 60, 88)\") \\\n",
        "   .filter(\"shipinstruct LIKE 'TAKE BACK%'\") \\\n",
        "   .select(\"orderkey\", \"linenumber\", \"suppkey\", \"discount\", \"shipinstruct\") \\\n",
        "   .sort(\"discount\", \"suppkey\", \"orderkey\", \"linenumber\").show()"
      ]
    },
    {
      "cell_type": "code",
      "execution_count": 17,
      "metadata": {
        "id": "84wiMieYmENf",
        "colab": {
          "base_uri": "https://localhost:8080/"
        },
        "outputId": "26de80a4-71b4-44dd-d37e-9010e6a0d622"
      },
      "outputs": [
        {
          "output_type": "stream",
          "name": "stdout",
          "text": [
            "--------------\n",
            "|\"shipmode\"  |\n",
            "--------------\n",
            "|AIR         |\n",
            "|MAIL        |\n",
            "|REG AIR     |\n",
            "|RAIL        |\n",
            "|FOB         |\n",
            "|SHIP        |\n",
            "|TRUCK       |\n",
            "--------------\n",
            "\n"
          ]
        }
      ],
      "source": [
        "#\n",
        "# Use standard SQL to see what the shipmode options are\n",
        "#\n",
        "\n",
        "session.sql(\"SELECT DISTINCT(shipmode) FROM tpch.tiny.lineitem\").show()"
      ]
    },
    {
      "cell_type": "code",
      "execution_count": 18,
      "metadata": {
        "id": "5NhtmntLmENg",
        "colab": {
          "base_uri": "https://localhost:8080/"
        },
        "outputId": "d95b4b99-bc60-4bfc-8b35-9746b43f2406"
      },
      "outputs": [
        {
          "output_type": "stream",
          "name": "stdout",
          "text": [
            "--------------\n",
            "|\"shipmode\"  |\n",
            "--------------\n",
            "|FOB         |\n",
            "|SHIP        |\n",
            "|TRUCK       |\n",
            "|AIR         |\n",
            "|MAIL        |\n",
            "|RAIL        |\n",
            "|REG AIR     |\n",
            "--------------\n",
            "\n"
          ]
        }
      ],
      "source": [
        "#\n",
        "# You can get the same thing from the API\n",
        "#  https://pystarburst.eng.starburstdata.net/dataframe.html#pystarburst.dataframe.DataFrame.distinct\n",
        "#\n",
        "\n",
        "tli.select(\"shipmode\").distinct().show()"
      ]
    },
    {
      "cell_type": "code",
      "execution_count": 19,
      "metadata": {
        "id": "RRIVsh4nmENg",
        "colab": {
          "base_uri": "https://localhost:8080/"
        },
        "outputId": "d9109dab-ac09-4ef2-bfb1-f26d4429fded"
      },
      "outputs": [
        {
          "output_type": "stream",
          "name": "stdout",
          "text": [
            "---------------------------\n",
            "|\"shipmode\"  |\"count(*)\"  |\n",
            "---------------------------\n",
            "|AIR         |8491        |\n",
            "|FOB         |8641        |\n",
            "|MAIL        |8669        |\n",
            "|RAIL        |8566        |\n",
            "|REG AIR     |8616        |\n",
            "|SHIP        |8482        |\n",
            "|TRUCK       |8710        |\n",
            "---------------------------\n",
            "\n"
          ]
        }
      ],
      "source": [
        "#\n",
        "# Use standard SQL to find out how many lineitems for each shipmode\n",
        "#\n",
        "\n",
        "session.sql(\" \\\n",
        "     SELECT shipmode, count() \\\n",
        "       FROM tpch.tiny.lineitem \\\n",
        "      GROUP BY shipmode \\\n",
        "      ORDER BY shipmode\").show()"
      ]
    },
    {
      "cell_type": "code",
      "execution_count": 20,
      "metadata": {
        "id": "BjvGGszxmENg",
        "colab": {
          "base_uri": "https://localhost:8080/"
        },
        "outputId": "9abc849e-1b03-4e70-bf2b-aae3d3de7e47"
      },
      "outputs": [
        {
          "output_type": "stream",
          "name": "stdout",
          "text": [
            "------------------------\n",
            "|\"shipmode\"  |\"count\"  |\n",
            "------------------------\n",
            "|AIR         |8491     |\n",
            "|FOB         |8641     |\n",
            "|MAIL        |8669     |\n",
            "|RAIL        |8566     |\n",
            "|REG AIR     |8616     |\n",
            "|SHIP        |8482     |\n",
            "|TRUCK       |8710     |\n",
            "------------------------\n",
            "\n"
          ]
        }
      ],
      "source": [
        "#\n",
        "# You can get the same thing from the API\n",
        "#  https://pystarburst.eng.starburstdata.net/dataframe.html#pystarburst.dataframe.DataFrame.groupBy\n",
        "#\n",
        "\n",
        "tli.group_by(\"shipmode\").count().sort(\"shipmode\").show()"
      ]
    },
    {
      "cell_type": "code",
      "execution_count": 21,
      "metadata": {
        "id": "RtqQJjEcmENh",
        "colab": {
          "base_uri": "https://localhost:8080/"
        },
        "outputId": "23f381a4-199a-416f-ae32-e01e94d4244d"
      },
      "outputs": [
        {
          "output_type": "stream",
          "name": "stdout",
          "text": [
            "---------------------------\n",
            "|\"shipmode\"  |\"count(1)\"  |\n",
            "---------------------------\n",
            "|AIR         |8491        |\n",
            "|FOB         |8641        |\n",
            "|MAIL        |8669        |\n",
            "|RAIL        |8566        |\n",
            "|REG AIR     |8616        |\n",
            "|SHIP        |8482        |\n",
            "|TRUCK       |8710        |\n",
            "---------------------------\n",
            "\n",
            "---------------------------\n",
            "|\"shipmode\"  |\"count(*)\"  |\n",
            "---------------------------\n",
            "|AIR         |8491        |\n",
            "|FOB         |8641        |\n",
            "|MAIL        |8669        |\n",
            "|RAIL        |8566        |\n",
            "|REG AIR     |8616        |\n",
            "|SHIP        |8482        |\n",
            "|TRUCK       |8710        |\n",
            "---------------------------\n",
            "\n"
          ]
        }
      ],
      "source": [
        "#\n",
        "# Oh... the DF API almost always has at least 2 ways to perform the same action!\n",
        "#  here's TWO more ways for this example\n",
        "#   https://pystarburst.eng.starburstdata.net/dataframe_grouping_functions.html#pystarburst.relational_grouped_dataframe.RelationalGroupedDataFrame\n",
        "#\n",
        "\n",
        "tli.group_by(\"shipmode\").agg((col(\"*\"), \"count\")).sort(\"shipmode\").show()\n",
        "\n",
        "tli.group_by(\"shipmode\").function(\"count\")(\"*\").sort(\"shipmode\").show()"
      ]
    },
    {
      "cell_type": "code",
      "execution_count": 22,
      "metadata": {
        "id": "NdmFJyZkmENh",
        "colab": {
          "base_uri": "https://localhost:8080/"
        },
        "outputId": "2e20e364-1956-427b-9e9d-ab19a52041ed"
      },
      "outputs": [
        {
          "output_type": "stream",
          "name": "stdout",
          "text": [
            "---------------------------------------------------------------------------------------------\n",
            "|\"shipmode\"  |\"count(shipmode)\"  |\"sum(quantity)\"  |\"avg(extendedprice)\"  |\"max(discount)\"  |\n",
            "---------------------------------------------------------------------------------------------\n",
            "|TRUCK       |8710               |223909.0         |35956.15551320322     |0.1              |\n",
            "|MAIL        |8669               |221528.0         |35827.64891336942     |0.1              |\n",
            "|FOB         |8641               |219565.0         |35583.13511399151     |0.1              |\n",
            "|REG AIR     |8616               |219015.0         |35624.070743964665    |0.1              |\n",
            "|RAIL        |8566               |217810.0         |35615.53778309586     |0.1              |\n",
            "|AIR         |8491               |216331.0         |35709.31095395133     |0.1              |\n",
            "|SHIP        |8482               |217969.0         |36043.43757486444     |0.1              |\n",
            "---------------------------------------------------------------------------------------------\n",
            "\n"
          ]
        }
      ],
      "source": [
        "#\n",
        "# You can surely calculate multiple aggregate functions for a single group_by\n",
        "#\n",
        "\n",
        "tli.group_by(\"shipmode\").agg( \\\n",
        "     (col(\"shipmode\"), \"count\"), \\\n",
        "     (col(\"quantity\"), \"sum\"), \\\n",
        "     (col(\"extendedprice\"), \"avg\"), \\\n",
        "     (col(\"discount\"), \"max\") \\\n",
        ").sort(\"count(shipmode)\", ascending=False).show()"
      ]
    },
    {
      "cell_type": "code",
      "execution_count": 23,
      "metadata": {
        "id": "uuSyxeGlmENh",
        "colab": {
          "base_uri": "https://localhost:8080/"
        },
        "outputId": "9e407ba3-c493-460f-f6b5-d240a8144b19"
      },
      "outputs": [
        {
          "output_type": "stream",
          "name": "stdout",
          "text": [
            "---------------------------------------------------------------------------------------------\n",
            "|\"shipmode\"  |\"count(shipmode)\"  |\"sum(quantity)\"  |\"avg(extendedprice)\"  |\"max(discount)\"  |\n",
            "---------------------------------------------------------------------------------------------\n",
            "|TRUCK       |8710               |223909.0         |35956.15551320334     |0.1              |\n",
            "|MAIL        |8669               |221528.0         |35827.64891336941     |0.1              |\n",
            "|FOB         |8641               |219565.0         |35583.13511399149     |0.1              |\n",
            "|REG AIR     |8616               |219015.0         |35624.07074396472     |0.1              |\n",
            "|RAIL        |8566               |217810.0         |35615.53778309599     |0.1              |\n",
            "|AIR         |8491               |216331.0         |35709.3109539513      |0.1              |\n",
            "|SHIP        |8482               |217969.0         |36043.437574864336    |0.1              |\n",
            "---------------------------------------------------------------------------------------------\n",
            "\n"
          ]
        }
      ],
      "source": [
        "#\n",
        "# Probably no surprise that this is the equivalent SQL to the last cell\n",
        "#\n",
        "\n",
        "session.sql(\" \\\n",
        "     SELECT shipmode, count(shipmode), sum(quantity), avg(extendedprice), max(discount) \\\n",
        "       FROM tpch.tiny.lineitem \\\n",
        "      GROUP BY shipmode \\\n",
        "      ORDER BY 2 DESC\").show()"
      ]
    },
    {
      "cell_type": "code",
      "execution_count": 24,
      "metadata": {
        "scrolled": true,
        "id": "XJ8dDXWzmENi",
        "colab": {
          "base_uri": "https://localhost:8080/"
        },
        "outputId": "37c559db-f0c0-4475-b646-518d82e0d375"
      },
      "outputs": [
        {
          "output_type": "stream",
          "name": "stdout",
          "text": [
            "-----------------------------------------------------------------------------------------------------------------------------------------------------------------------------------------------------------------------------------------------------------------------\n",
            "|\"summary\"  |\"orderkey\"          |\"partkey\"           |\"suppkey\"          |\"linenumber\"        |\"quantity\"          |\"extendedprice\"    |\"discount\"            |\"tax\"                 |\"returnflag\"  |\"linestatus\"  |\"shipinstruct\"    |\"shipmode\"  |\"comment\"        |\n",
            "-----------------------------------------------------------------------------------------------------------------------------------------------------------------------------------------------------------------------------------------------------------------------\n",
            "|count      |60175.0             |60175.0             |60175.0            |60175.0             |60175.0             |60175.0            |60175.0               |60175.0               |60175         |60175         |60175             |60175       |60175            |\n",
            "|mean       |29958.613593685084  |1002.7013211466556  |50.53597008724553  |3.004270876609888   |25.527660988782717  |35765.5132608226   |0.04993003739094213   |0.04022451184046523   |NULL          |NULL          |NULL              |NULL        |NULL             |\n",
            "|stddev     |17299.239820205617  |575.677415978492    |28.86295713122262  |1.7340257174269256  |14.406572645801168  |21844.23498496738  |0.031611950423889014  |0.025773527453638402  |NULL          |NULL          |NULL              |NULL        |NULL             |\n",
            "|min        |1.0                 |1.0                 |1.0                |1.0                 |1.0                 |904.0              |0.0                   |0.0                   |A             |F             |COLLECT COD       |AIR         | Tiresias        |\n",
            "|max        |60000.0             |2000.0              |100.0              |7.0                 |50.0                |94949.5            |0.1                   |0.08                  |R             |O             |TAKE BACK RETURN  |TRUCK       |zzle: pending i  |\n",
            "-----------------------------------------------------------------------------------------------------------------------------------------------------------------------------------------------------------------------------------------------------------------------\n",
            "\n"
          ]
        }
      ],
      "source": [
        "#\n",
        "# Show some basic statistics for all columns\n",
        "#  https://pystarburst.eng.starburstdata.net/dataframe.html#pystarburst.dataframe.DataFrame.describe\n",
        "#\n",
        "\n",
        "tli.describe().show()"
      ]
    },
    {
      "cell_type": "code",
      "execution_count": 26,
      "metadata": {
        "id": "Or0UW8MnmENk",
        "colab": {
          "base_uri": "https://localhost:8080/"
        },
        "outputId": "4b5ceca7-66b9-4f7c-9a52-9fde9eaf3623"
      },
      "outputs": [
        {
          "output_type": "stream",
          "name": "stdout",
          "text": [
            "---------------------------------------------------------------------------------------------------\n",
            "|\"summary\"  |\"quantity\"          |\"extendedprice\"    |\"discount\"            |\"tax\"                |\n",
            "---------------------------------------------------------------------------------------------------\n",
            "|stddev     |14.406572645801168  |21844.23498496738  |0.03161195042388901   |0.0257735274536384   |\n",
            "|min        |1.0                 |904.0              |0.0                   |0.0                  |\n",
            "|max        |50.0                |94949.5            |0.1                   |0.08                 |\n",
            "|count      |60175.0             |60175.0            |60175.0               |60175.0              |\n",
            "|mean       |25.527660988782717  |35765.5132608226   |0.049930037390942136  |0.04022451184046523  |\n",
            "---------------------------------------------------------------------------------------------------\n",
            "\n"
          ]
        }
      ],
      "source": [
        "#\n",
        "# Yep, that was busy -- let's just look at a few fields\n",
        "#\n",
        "\n",
        "tli.describe().select(\"summary\", \"quantity\", \"extendedprice\", \"discount\", \"tax\").show()"
      ]
    },
    {
      "cell_type": "code",
      "execution_count": 27,
      "metadata": {
        "id": "VB6Ca_ADmENl",
        "colab": {
          "base_uri": "https://localhost:8080/"
        },
        "outputId": "887dd5ae-573c-4725-e09e-cba88f096c03"
      },
      "outputs": [
        {
          "output_type": "stream",
          "name": "stdout",
          "text": [
            "--------------------------------------------------------------------------------------\n",
            "|\"shipmode\"  |\"shipinstruct\"     |\"ship_dets\"              |\"ship_dets_lc\"           |\n",
            "--------------------------------------------------------------------------------------\n",
            "|AIR         |COLLECT COD        |AIR > COLLECT COD        |air > collect cod        |\n",
            "|MAIL        |COLLECT COD        |MAIL > COLLECT COD       |mail > collect cod       |\n",
            "|REG AIR     |NONE               |REG AIR > NONE           |reg air > none           |\n",
            "|RAIL        |NONE               |RAIL > NONE              |rail > none              |\n",
            "|AIR         |COLLECT COD        |AIR > COLLECT COD        |air > collect cod        |\n",
            "|MAIL        |TAKE BACK RETURN   |MAIL > TAKE BACK RETURN  |mail > take back return  |\n",
            "|FOB         |NONE               |FOB > NONE               |fob > none               |\n",
            "|SHIP        |NONE               |SHIP > NONE              |ship > none              |\n",
            "|REG AIR     |NONE               |REG AIR > NONE           |reg air > none           |\n",
            "|FOB         |DELIVER IN PERSON  |FOB > DELIVER IN PERSON  |fob > deliver in person  |\n",
            "--------------------------------------------------------------------------------------\n",
            "\n",
            "-------------------------------------------------------------------------------------------------------\n",
            "|\"comment\"                                |\"unusual_comment\"  |\"comment_mod\"                          |\n",
            "-------------------------------------------------------------------------------------------------------\n",
            "|unusual accounts. furiously pen          |True               |WEIRD accounts. furiously pen          |\n",
            "|unusual excuses                          |True               |WEIRD excuses                          |\n",
            "|unusual pinto beans ab                   |True               |WEIRD pinto beans ab                   |\n",
            "|unusual accounts wake carefully slyly t  |True               |WEIRD accounts wake carefully slyly t  |\n",
            "|unusual accoun                           |True               |WEIRD accoun                           |\n",
            "|unusual ideas sleep.                     |True               |WEIRD ideas sleep.                     |\n",
            "|unusual foxe                             |True               |WEIRD foxe                             |\n",
            "|unusual pinto                            |True               |WEIRD pinto                            |\n",
            "|unusual deposits. fluffily fina          |True               |WEIRD deposits. fluffily fina          |\n",
            "|unusual packages. regular, even instru   |True               |WEIRD packages. regular, even instru   |\n",
            "-------------------------------------------------------------------------------------------------------\n",
            "\n"
          ]
        }
      ],
      "source": [
        "#\n",
        "# Exercise some of the Trino string functions\n",
        "#  https://pystarburst.eng.starburstdata.net/dataframe_functions.htm\n",
        "#\n",
        "\n",
        "str_test1 = session.sql(\"SELECT shipmode, shipinstruct FROM tpch.tiny.lineitem\") \\\n",
        "     .withColumn(\"ship_dets\", concat_ws(lit(\" > \"), \"shipmode\", \"shipinstruct\")) \\\n",
        "     .withColumn(\"ship_dets_lc\", lower(\"ship_dets\"))\n",
        "str_test1.show()\n",
        "\n",
        "str_test2 = session.table(\"tpch.tiny.lineitem\").select(\"comment\") \\\n",
        "     .withColumn(\"unusual_comment\", starts_with(\"comment\", lit(\"unusual\"))) \\\n",
        "     .filter(\"unusual_comment = true\") \\\n",
        "     .withColumn(\"comment_mod\", replace(\"comment\", lit(\"unusual\"), lit(\"WEIRD\")))\n",
        "str_test2.show()"
      ]
    },
    {
      "cell_type": "code",
      "execution_count": 28,
      "metadata": {
        "id": "D5bctPahmENn",
        "colab": {
          "base_uri": "https://localhost:8080/"
        },
        "outputId": "5ee8f0ad-3d64-4683-b8fc-877825662718"
      },
      "outputs": [
        {
          "output_type": "stream",
          "name": "stdout",
          "text": [
            "       orderkey  linenumber  extendedprice linestatus  custkey\n",
            "0             1           1       24710.35          O      370\n",
            "1             1           2       56688.12          O      370\n",
            "2             1           3       12301.04          O      370\n",
            "3             1           4       25816.56          O      370\n",
            "4             1           5       27389.76          O      370\n",
            "...         ...         ...            ...        ...      ...\n",
            "60170     60000           2       40131.32          O     1426\n",
            "60171     60000           3       43112.25          F     1426\n",
            "60172     60000           4       33966.83          O     1426\n",
            "60173     60000           5       46052.98          O     1426\n",
            "60174     60000           6       78157.35          O     1426\n",
            "\n",
            "[60175 rows x 5 columns]\n"
          ]
        }
      ],
      "source": [
        "#\n",
        "# Let's join some tables\n",
        "#  https://pystarburst.eng.starburstdata.net/dataframe.html#pystarburst.dataframe.DataFrame.join\n",
        "#\n",
        "\n",
        "ordersDF = session.table(\"tpch.tiny.orders\")\n",
        "lineitemDF = session.table(\"tpch.tiny.lineitem\").rename(\"orderkey\", \"li_ok\")\n",
        "\n",
        "joinedDF = lineitemDF.join(ordersDF, ordersDF.orderkey == lineitemDF.li_ok) \\\n",
        "     .select(\"orderkey\", \"linenumber\", \"extendedprice\", \"linestatus\", \"custkey\") \\\n",
        "     .sort(\"orderkey\", \"linenumber\")\n",
        "mydf =joinedDF.to_pandas()\n",
        "print(mydf);"
      ]
    },
    {
      "cell_type": "code",
      "execution_count": 29,
      "metadata": {
        "id": "zgcGManymENo",
        "colab": {
          "base_uri": "https://localhost:8080/"
        },
        "outputId": "8fe8459a-1208-4587-bbe3-fe1589c0085c"
      },
      "outputs": [
        {
          "output_type": "stream",
          "name": "stdout",
          "text": [
            "--------------------------------\n",
            "|\"nation_name\"   |\"avg_price\"  |\n",
            "--------------------------------\n",
            "|SAUDI ARABIA    |54401.73     |\n",
            "|VIETNAM         |48446.24     |\n",
            "|ROMANIA         |40023.37     |\n",
            "|PERU            |38430.95     |\n",
            "|UNITED KINGDOM  |37834.35     |\n",
            "|FRANCE          |36963.62     |\n",
            "|IRAN            |36862.28     |\n",
            "|ETHIOPIA        |36224.73     |\n",
            "|GERMANY         |35429.85     |\n",
            "|JORDAN          |34802.85     |\n",
            "--------------------------------\n",
            "\n"
          ]
        }
      ],
      "source": [
        "#\n",
        "# Let's join 4 tables together and determine the average lineitem price by nation name\n",
        "#  note: renaming the (logical) FK col names to aid in auto-renaming confusion that occurs\n",
        "#\n",
        "\n",
        "smaller_orders_lineitems = joinedDF.drop(\"linenumber\", \"linestatus\") \\\n",
        "     .rename(\"custkey\", \"sol_ck\").filter(\"orderkey BETWEEN 100 AND 199\")\n",
        "\n",
        "customerDF = session.sql(\"SELECT custkey, nationkey AS c_nk FROM tpch.tiny.customer\")\n",
        "\n",
        "o_li_c = smaller_orders_lineitems.join(customerDF, \\\n",
        "                smaller_orders_lineitems.sol_ck == customerDF.custkey)\n",
        "\n",
        "nationDF = session.table(\"tpch.tiny.nation\").drop(\"regionkey\").drop(\"comment\")\n",
        "\n",
        "nation_avg_price = o_li_c.join(nationDF, o_li_c.c_nk == nationDF.nationkey) \\\n",
        "     .rename(\"name\", \"nation_name\") \\\n",
        "     .select(\"nation_name\", \"extendedprice\") \\\n",
        "     .group_by(\"nation_name\").avg(\"extendedprice\") \\\n",
        "     .with_column(\"avg_price\", round(\"avg(extendedprice)\", lit(2))) \\\n",
        "     .select(\"nation_name\", \"avg_price\") \\\n",
        "     .sort(\"avg_price\", ascending=False)\n",
        "nation_avg_price.show()"
      ]
    },
    {
      "cell_type": "code",
      "execution_count": 30,
      "metadata": {
        "id": "-cWznD4qmENp",
        "colab": {
          "base_uri": "https://localhost:8080/"
        },
        "outputId": "9e9b2471-9145-4258-c22d-12a03354696d"
      },
      "outputs": [
        {
          "output_type": "stream",
          "name": "stdout",
          "text": [
            "--------------------------------\n",
            "|\"nation_name\"   |\"avg_price\"  |\n",
            "--------------------------------\n",
            "|SAUDI ARABIA    |54401.73     |\n",
            "|VIETNAM         |48446.24     |\n",
            "|ROMANIA         |40023.37     |\n",
            "|PERU            |38430.95     |\n",
            "|UNITED KINGDOM  |37834.35     |\n",
            "|FRANCE          |36963.62     |\n",
            "|IRAN            |36862.28     |\n",
            "|ETHIOPIA        |36224.73     |\n",
            "|GERMANY         |35429.85     |\n",
            "|JORDAN          |34802.85     |\n",
            "--------------------------------\n",
            "\n",
            "-------------------------------\n",
            "|\"nation_name\"  |\"avg_price\"  |\n",
            "-------------------------------\n",
            "|               |             |\n",
            "-------------------------------\n",
            "\n"
          ]
        }
      ],
      "source": [
        "#\n",
        "# SQL version of the above cell, plus verifying the results are identical\n",
        "#  by showing the except() output is empty\n",
        "#\n",
        "\n",
        "nation_avg_price_sql = session.sql(\" \\\n",
        "     SELECT n.name AS nation_name, \\\n",
        "            ROUND(AVG(li.extendedprice), 2) AS avg_price \\\n",
        "       FROM tpch.tiny.lineitem li \\\n",
        "       JOIN tpch.tiny.orders o   ON (li.orderkey = o.orderkey) \\\n",
        "       JOIN tpch.tiny.customer c ON (o.custkey = c.custkey) \\\n",
        "       JOIN tpch.tiny.nation n   ON (c.nationkey = n.nationkey) \\\n",
        "      WHERE o.orderkey BETWEEN 100 and 199 \\\n",
        "      GROUP BY n.name \\\n",
        "      ORDER BY avg_price DESC\")\n",
        "nation_avg_price_sql.show()\n",
        "\n",
        "\n",
        "nation_avg_price.except_(nation_avg_price_sql).show()"
      ]
    },
    {
      "cell_type": "markdown",
      "metadata": {
        "id": "Ql9lnNG0mENq"
      },
      "source": [
        "## You definitely have some **optionality** with the DataFrame API.\n",
        "\n",
        "## That's enough examples for this notebook :)"
      ]
    }
  ],
  "metadata": {
    "kernelspec": {
      "display_name": "Python 3 (ipykernel)",
      "language": "python",
      "name": "python3"
    },
    "language_info": {
      "codemirror_mode": {
        "name": "ipython",
        "version": 3
      },
      "file_extension": ".py",
      "mimetype": "text/x-python",
      "name": "python",
      "nbconvert_exporter": "python",
      "pygments_lexer": "ipython3",
      "version": "3.10.9"
    },
    "colab": {
      "provenance": [],
      "include_colab_link": true
    }
  },
  "nbformat": 4,
  "nbformat_minor": 0
}